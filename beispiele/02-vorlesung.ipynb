{
 "cells": [
  {
   "cell_type": "markdown",
   "metadata": {},
   "source": [
    "Syntax natürlicher Sprachen, WS 2025/26\n",
    "\n",
    "# Vorlesung 02 - Beispiele"
   ]
  },
  {
   "cell_type": "code",
   "execution_count": 1,
   "metadata": {},
   "outputs": [],
   "source": [
    "import nltk\n",
    "from nltk.tree import Tree\n",
    "from nltk.parse.generate import generate"
   ]
  },
  {
   "cell_type": "code",
   "execution_count": 2,
   "metadata": {},
   "outputs": [
    {
     "name": "stdout",
     "output_type": "stream",
     "text": [
      "       S                                \n",
      " ┌─────┴─────┐                           \n",
      " │           VP                         \n",
      " │     ┌─────┴───┐                       \n",
      " │     │         NP                     \n",
      " │     │     ┌───┴────┬──────────────┐   \n",
      " NP    │     │       ADJP            │  \n",
      " │     │     │   ┌────┴───────┐      │   \n",
      "PRON   V    DET PRT          ADJ     N  \n",
      " │     │     │   │            │      │   \n",
      "sie  fahren ein sehr      schnelles Auto\n",
      "\n"
     ]
    }
   ],
   "source": [
    "sent = \"sie fahren ein sehr schnelles Auto\"\n",
    "\n",
    "grammar = nltk.CFG.fromstring(\n",
    "\"\"\"\n",
    "# syntaktische Regeln:\n",
    "    S -> NP VP\n",
    "    NP -> PRON | DET N | DET ADJP N\n",
    "    ADJP -> ADJ | PRT ADJ\n",
    "    VP -> V NP\n",
    "    \n",
    "#lexikalische Regeln:\n",
    "    PRON -> 'sie'\n",
    "    V -> 'fahren'\n",
    "    DET -> 'ein'\n",
    "    PRT -> 'sehr'\n",
    "    ADJ -> 'schnelles' \n",
    "    N -> 'Auto'\n",
    "\"\"\")\n",
    "\n",
    "parser = nltk.ChartParser(grammar)\n",
    "\n",
    "for tree in parser.parse(sent.split()):\n",
    "    tree.pretty_print(unicodelines=True)\n"
   ]
  },
  {
   "cell_type": "code",
   "execution_count": 3,
   "metadata": {},
   "outputs": [
    {
     "name": "stdout",
     "output_type": "stream",
     "text": [
      "sie fahren sie\n",
      "sie fahren ein Auto\n",
      "sie fahren ein schnelles Auto\n",
      "sie fahren ein sehr schnelles Auto\n",
      "ein Auto fahren sie\n",
      "ein Auto fahren ein Auto\n",
      "ein Auto fahren ein schnelles Auto\n",
      "ein Auto fahren ein sehr schnelles Auto\n",
      "ein schnelles Auto fahren sie\n",
      "ein schnelles Auto fahren ein Auto\n",
      "ein schnelles Auto fahren ein schnelles Auto\n",
      "ein schnelles Auto fahren ein sehr schnelles Auto\n",
      "ein sehr schnelles Auto fahren sie\n",
      "ein sehr schnelles Auto fahren ein Auto\n",
      "ein sehr schnelles Auto fahren ein schnelles Auto\n",
      "ein sehr schnelles Auto fahren ein sehr schnelles Auto\n"
     ]
    }
   ],
   "source": [
    "for sentence in generate(grammar, depth=6):\n",
    "    print(' '.join(sentence))"
   ]
  }
 ],
 "metadata": {
  "kernelspec": {
   "display_name": "base",
   "language": "python",
   "name": "python3"
  },
  "language_info": {
   "codemirror_mode": {
    "name": "ipython",
    "version": 3
   },
   "file_extension": ".py",
   "mimetype": "text/x-python",
   "name": "python",
   "nbconvert_exporter": "python",
   "pygments_lexer": "ipython3",
   "version": "3.9.12"
  }
 },
 "nbformat": 4,
 "nbformat_minor": 2
}
