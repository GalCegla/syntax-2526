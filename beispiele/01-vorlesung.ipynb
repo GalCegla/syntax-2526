{
 "cells": [
  {
   "cell_type": "markdown",
   "metadata": {},
   "source": [
    "Syntax natürlicher Sprachen, WS 2025/26\n",
    "\n",
    "# Vorlesung 01 - Beispiele "
   ]
  },
  {
   "cell_type": "code",
   "execution_count": 1,
   "metadata": {},
   "outputs": [],
   "source": [
    "import nltk\n",
    "from nltk.tree import Tree\n",
    "from nltk.parse.generate import generate"
   ]
  },
  {
   "cell_type": "code",
   "execution_count": 2,
   "metadata": {},
   "outputs": [],
   "source": [
    "grammar = nltk.CFG.fromstring(\"\"\"\n",
    "    S -> NP VP\n",
    "    NP -> PROPN\n",
    "    VP -> V NP\n",
    "    PROPN -> \"Maria\" | \"Moritz\"\n",
    "    V -> \"sieht\"\n",
    "\"\"\")"
   ]
  },
  {
   "cell_type": "code",
   "execution_count": 3,
   "metadata": {},
   "outputs": [
    {
     "name": "stdout",
     "output_type": "stream",
     "text": [
      "(S (NP (PROPN Maria)) (VP (V sieht) (NP (PROPN Moritz))))\n",
      "        S             \n",
      "  ┌─────┴────┐         \n",
      "  │          VP       \n",
      "  │     ┌────┴────┐    \n",
      "  NP    │         NP  \n",
      "  │     │         │    \n",
      "PROPN   V       PROPN \n",
      "  │     │         │    \n",
      "Maria sieht     Moritz\n",
      "\n"
     ]
    }
   ],
   "source": [
    "sent = \"Maria sieht Moritz\"\n",
    "\n",
    "parser = nltk.ChartParser(grammar)\n",
    "\n",
    "for tree in parser.parse(sent.split()):\n",
    "    print(tree)\n",
    "    tree.pretty_print(unicodelines=True)"
   ]
  },
  {
   "cell_type": "code",
   "execution_count": 4,
   "metadata": {},
   "outputs": [
    {
     "name": "stdout",
     "output_type": "stream",
     "text": [
      "Maria sieht Maria\n",
      "Maria sieht Moritz\n",
      "Moritz sieht Maria\n",
      "Moritz sieht Moritz\n"
     ]
    }
   ],
   "source": [
    "for sentence in generate(grammar, depth=5):\n",
    "    print(' '.join(sentence))"
   ]
  }
 ],
 "metadata": {
  "kernelspec": {
   "display_name": "base",
   "language": "python",
   "name": "python3"
  },
  "language_info": {
   "codemirror_mode": {
    "name": "ipython",
    "version": 3
   },
   "file_extension": ".py",
   "mimetype": "text/x-python",
   "name": "python",
   "nbconvert_exporter": "python",
   "pygments_lexer": "ipython3",
   "version": "3.9.12"
  }
 },
 "nbformat": 4,
 "nbformat_minor": 2
}
